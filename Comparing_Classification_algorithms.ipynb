{
  "nbformat": 4,
  "nbformat_minor": 0,
  "metadata": {
    "colab": {
      "name": "Comparing-Classification-algorithms.ipynb",
      "provenance": [],
      "collapsed_sections": []
    },
    "kernelspec": {
      "name": "python3",
      "display_name": "Python 3"
    },
    "language_info": {
      "name": "python"
    }
  },
  "cells": [
    {
      "cell_type": "markdown",
      "source": [
        "In this work we want to implement different classification algorithms with different settings of hyperparameters and apply them on the Parkinson cancer dataset we got form UCI. The goal is given a patient, we want to determine whether the patient has a cancer or not. Also, we want to compare the accuracy of these algorithms on the given dataset."
      ],
      "metadata": {
        "id": "k18EO0_SaaG7"
      }
    },
    {
      "cell_type": "code",
      "source": [
        "import pandas as pd\n",
        "import numpy as np\n",
        "import matplotlib.pyplot as plt\n",
        "from sklearn.model_selection import train_test_split\n",
        "from sklearn.preprocessing import StandardScaler\n",
        "from sklearn import model_selection\n",
        "from sklearn.metrics import ConfusionMatrixDisplay\n",
        "from sklearn import svm\n",
        "from sklearn.naive_bayes import GaussianNB\n",
        "from sklearn.ensemble import RandomForestClassifier\n",
        "from sklearn.linear_model import LogisticRegression\n",
        "from sklearn.neighbors import KNeighborsClassifier\n",
        "from sklearn.model_selection import GridSearchCV\n",
        "from sklearn.metrics import classification_report, confusion_matrix, accuracy_score"
      ],
      "metadata": {
        "id": "Xj2jRL42RBpE"
      },
      "execution_count": 46,
      "outputs": []
    },
    {
      "cell_type": "code",
      "source": [
        "class classification:\n",
        "\n",
        "  def __init__(self, filename, test_size):\n",
        "    self.dataset = pd.read_csv(filename)\n",
        "    self.test_size = test_size\n",
        "  \n",
        "  def split(self):\n",
        "    X = self.dataset.iloc[:, 1:].values\n",
        "    y = self.dataset.iloc[:, 0].values\n",
        "    X_train, X_test, y_train, y_test = train_test_split(X, y, test_size = self.test_size)\n",
        "    return X_train, X_test, y_train, y_test\n",
        "\n",
        "  def feature_scaling(self):\n",
        "    X_train, X_test, y_train, y_test = self.split()\n",
        "    sc = StandardScaler()\n",
        "    X_train = sc.fit_transform(X_train)\n",
        "    X_test = sc.transform(X_test)\n",
        "    return X_train, X_test, y_train, y_test\n",
        "   \n",
        "  def svm_model_fit(self, param_grid, cv):\n",
        "    X_train, X_test, y_train, y_test = self.feature_scaling()\n",
        "    svc = svm.SVC()\n",
        "    clf = GridSearchCV(estimator = svc, param_grid= param_grid, cv = cv, scoring='accuracy')\n",
        "    clf.fit(X_train, y_train)\n",
        "    print(f\"The best hyper parameters are : {clf.best_params_}\")\n",
        "    print(f'The best average accuracy ontained from validation data sets is : {np.round(clf.best_score_, decimals=2)}')\n",
        "    test_predictions = clf.predict(X_test)\n",
        "    # print classification report\n",
        "    print(f'The test accuracy is \\\n",
        "            {np.round(accuracy_score(y_test, test_predictions), decimals=2)}')\n",
        "    print(classification_report(y_test, test_predictions))\n",
        "    ConfusionMatrixDisplay.from_predictions(y_true= y_test, y_pred=test_predictions)\n",
        "    plt.show()\n",
        "    print()\n",
        "\n",
        "  def knn_model_fit(self, param_grid, cv):\n",
        "    X_train, X_test, y_train, y_test = self.feature_scaling()\n",
        "    knn = KNeighborsClassifier()\n",
        "    clf = GridSearchCV(estimator=knn, param_grid=param_grid, cv=cv, scoring='accuracy')\n",
        "    clf.fit(X_train, y_train)\n",
        "    print(clf.best_params_)\n",
        "    print(clf.best_score_)\n",
        "    print(f\"The best hyper parameters are : {clf.best_params_}\")\n",
        "    print(f'The average accuracy ontained from validation data sets is : {np.round(clf.best_score_, decimals=2)}')\n",
        "    test_predictions = clf.predict(X_test)\n",
        "    # print classification report\n",
        "    print()\n",
        "    print(f'The test accuracy is {np.round(accuracy_score(y_test, test_predictions), decimals=2)}')\n",
        "    print(classification_report(y_test, test_predictions))\n",
        "    ConfusionMatrixDisplay.from_predictions(y_true= y_test, y_pred=test_predictions)\n",
        "    plt.show()\n",
        "    print()\n",
        "\n",
        "\n",
        "  def naive_bayes_model_fit(self, param_grid, cv):\n",
        "    X_train, X_test, y_train, y_test = self.feature_scaling()\n",
        "    nb = GaussianNB()\n",
        "    clf = GridSearchCV(estimator=nb, param_grid=param_grid, cv=cv, scoring='accuracy')\n",
        "    clf.fit(X_train, y_train)\n",
        "    print(clf.best_params_)\n",
        "    print(clf.best_score_)\n",
        "    print(f\"The best hyper parameters are : {clf.best_params_}\")\n",
        "    print(f'The average accuracy ontained from validation data sets is : {np.round(clf.best_score_, decimals=2)}')\n",
        "    test_predictions = clf.predict(X_test)\n",
        "    # print classification report\n",
        "    print()\n",
        "    print(f'The test accuracy is {np.round(accuracy_score(y_test, test_predictions), decimals=2)}')\n",
        "    print(classification_report(y_test, test_predictions))\n",
        "    ConfusionMatrixDisplay.from_predictions(y_true= y_test, y_pred=test_predictions)\n",
        "    plt.show()\n",
        "    print()\n",
        "\n",
        "\n",
        "  def logisticRegression_model_fit(self, param_grid, cv):\n",
        "    X_train, X_test, y_train, y_test = self.feature_scaling()\n",
        "    lr = LogisticRegression()\n",
        "    clf = GridSearchCV(estimator=lr, param_grid=param_grid, cv=cv, scoring='accuracy')\n",
        "    clf.fit(X_train, y_train)\n",
        "    print(clf.best_params_)\n",
        "    print(clf.best_score_)\n",
        "    print(f\"The best hyper parameters are : {clf.best_params_}\")\n",
        "    print(f'The average accuracy ontained from validation data sets is : {np.round(clf.best_score_, decimals=2)}')\n",
        "    test_predictions = clf.predict(X_test)\n",
        "    # print classification report\n",
        "    print()\n",
        "    print(f'The test accuracy is {np.round(accuracy_score(y_test, test_predictions), decimals=2)}')\n",
        "    print(classification_report(y_test, test_predictions))\n",
        "    ConfusionMatrixDisplay.from_predictions(y_true= y_test, y_pred=test_predictions)\n",
        "    plt.show()\n",
        "    print()\n",
        "\n",
        "\n",
        "  def randomForest_model_fit(self, param_grid, cv):\n",
        "    X_train, X_test, y_train, y_test = self.feature_scaling()\n",
        "    rfc = RandomForestClassifier()\n",
        "    clf = GridSearchCV(estimator = rfc, param_grid= param_grid, cv = cv, scoring='accuracy')\n",
        "    clf.fit(X_train, y_train)\n",
        "    print(clf.best_params_)\n",
        "    print(clf.best_score_)\n",
        "    print(f\"The best hyper parameters are : {clf.best_params_}\")\n",
        "    print(f'The average accuracy ontained from validation data sets is : {np.round(clf.best_score_, decimals=2)}')\n",
        "    test_predictions = clf.predict(X_test)\n",
        "    # print classification report\n",
        "    print()\n",
        "    print(f'The test accuracy is {np.round(accuracy_score(y_test, test_predictions), decimals=2)}')\n",
        "    print(classification_report(y_test, test_predictions))\n",
        "    ConfusionMatrixDisplay.from_predictions(y_true= y_test, y_pred=test_predictions)\n",
        "    plt.show()\n",
        "    print()\n"
      ],
      "metadata": {
        "id": "jYZ4WnW2wjsp"
      },
      "execution_count": 47,
      "outputs": []
    },
    {
      "cell_type": "code",
      "source": [
        "print(\"************ Results for Linear SVM classifier ************\")\n",
        "print()\n",
        "linear = classification(filename='parkinson.data', test_size=0.2)\n",
        "linear.svm_model_fit(param_grid = {'kernel':['linear'], 'C': [0.01, 0.1, 1, 10, 100]}, cv=10)\n",
        "\n",
        "print(\"************ Results for Gaussian SVM classifier ************\")\n",
        "print()\n",
        "gaussian = classification(filename='parkinson.data', test_size=0.2)\n",
        "gaussian.svm_model_fit(param_grid = {'kernel':['rbf'], 'C': [0.01, 0.1, 1, 10, 100]}, cv=10)\n",
        "\n",
        "print(\"************ Results for Logistic Regression classifier ************\")\n",
        "print()\n",
        "logr = classification(filename='parkinson.data', test_size= 0.2)\n",
        "logr.logisticRegression_model_fit(param_grid = {'penalty': ['l2'],\n",
        "                                                'solver' : ['newton-cg', 'lbfgs', 'liblinear'],\n",
        "                                                'C': [10, 1.0, 0.1, 0.01]}, cv=10)\n",
        "\n",
        "\n",
        "print(\"************ Results for K-nearest neighbors classifier ************\")\n",
        "print()\n",
        "k = classification(filename='parkinson.data', test_size=0.2)\n",
        "k.knn_model_fit(param_grid = {'n_neighbors':list(range(1, 10, 2))}, cv=10)\n",
        "\n",
        "print(\"************ Results for Gaussian Naive Bayes classifier ************\")\n",
        "print()\n",
        "gnb = classification(filename='parkinson.data', test_size=0.2)\n",
        "gnb.naive_bayes_model_fit(param_grid = {'var_smoothing': np.logspace(0,-9, num=100)}, cv=10)\n",
        "\n",
        "\n",
        "print(\"************ Results for Random Forest classifier ************\")\n",
        "print()\n",
        "rf = classification(filename='parkinson.data', test_size= 0.2)\n",
        "rf.randomForest_model_fit(param_grid = {'max_depth': list(range(2, 10)),\n",
        "                                        'max_features': list(range(2,10))}, cv=10)\n"
      ],
      "metadata": {
        "colab": {
          "base_uri": "https://localhost:8080/",
          "height": 1000
        },
        "id": "PjvdgvOeAnFC",
        "outputId": "c2ad3f67-7f55-4c98-d2d6-fe1691a13580"
      },
      "execution_count": 48,
      "outputs": [
        {
          "output_type": "stream",
          "name": "stdout",
          "text": [
            "************ Results for Linear SVM classifier ************\n",
            "\n",
            "The best hyper parameters are : {'C': 100, 'kernel': 'linear'}\n",
            "The best average accuracy ontained from validation data sets is : 0.87\n",
            "The test accuracy is             0.9\n",
            "              precision    recall  f1-score   support\n",
            "\n",
            "           0       0.83      0.83      0.83        12\n",
            "           1       0.93      0.93      0.93        27\n",
            "\n",
            "    accuracy                           0.90        39\n",
            "   macro avg       0.88      0.88      0.88        39\n",
            "weighted avg       0.90      0.90      0.90        39\n",
            "\n"
          ]
        },
        {
          "output_type": "display_data",
          "data": {
            "image/png": "[encoded data removed]",
            "text/plain": [
              "<Figure size 432x288 with 2 Axes>"
            ]
          },
          "metadata": {
            "needs_background": "light"
          }
        },
        {
          "output_type": "stream",
          "name": "stdout",
          "text": [
            "\n",
            "************ Results for Gaussian SVM classifier ************\n",
            "\n",
            "The best hyper parameters are : {'C': 100, 'kernel': 'rbf'}\n",
            "The best average accuracy ontained from validation data sets is : 0.94\n",
            "The test accuracy is             0.9\n",
            "              precision    recall  f1-score   support\n",
            "\n",
            "           0       0.92      0.80      0.86        15\n",
            "           1       0.88      0.96      0.92        24\n",
            "\n",
            "    accuracy                           0.90        39\n",
            "   macro avg       0.90      0.88      0.89        39\n",
            "weighted avg       0.90      0.90      0.90        39\n",
            "\n"
          ]
        },
        {
          "output_type": "display_data",
          "data": {
            "image/png": "[encoded data removed]",
            "text/plain": [
              "<Figure size 432x288 with 2 Axes>"
            ]
          },
          "metadata": {
            "needs_background": "light"
          }
        },
        {
          "output_type": "stream",
          "name": "stdout",
          "text": [
            "\n",
            "************ Results for Logistic Regression classifier ************\n",
            "\n",
            "{'C': 10, 'penalty': 'l2', 'solver': 'newton-cg'}\n",
            "0.8508333333333333\n",
            "The best hyper parameters are : {'C': 10, 'penalty': 'l2', 'solver': 'newton-cg'}\n",
            "The average accuracy ontained from validation data sets is : 0.85\n",
            "\n",
            "The test accuracy is 0.85\n",
            "              precision    recall  f1-score   support\n",
            "\n",
            "           0       0.71      0.83      0.77        12\n",
            "           1       0.92      0.85      0.88        27\n",
            "\n",
            "    accuracy                           0.85        39\n",
            "   macro avg       0.82      0.84      0.83        39\n",
            "weighted avg       0.86      0.85      0.85        39\n",
            "\n"
          ]
        },
        {
          "output_type": "display_data",
          "data": {
            "image/png": "[encoded data removed]",
            "text/plain": [
              "<Figure size 432x288 with 2 Axes>"
            ]
          },
          "metadata": {
            "needs_background": "light"
          }
        },
        {
          "output_type": "stream",
          "name": "stdout",
          "text": [
            "\n",
            "************ Results for K-nearest neighbors classifier ************\n",
            "\n",
            "{'n_neighbors': 1}\n",
            "0.93625\n",
            "The best hyper parameters are : {'n_neighbors': 1}\n",
            "The average accuracy ontained from validation data sets is : 0.94\n",
            "\n",
            "The test accuracy is 0.95\n",
            "              precision    recall  f1-score   support\n",
            "\n",
            "           0       0.80      1.00      0.89         8\n",
            "           1       1.00      0.94      0.97        31\n",
            "\n",
            "    accuracy                           0.95        39\n",
            "   macro avg       0.90      0.97      0.93        39\n",
            "weighted avg       0.96      0.95      0.95        39\n",
            "\n"
          ]
        },
        {
          "output_type": "display_data",
          "data": {
            "image/png": "[encoded data removed]",
            "text/plain": [
              "<Figure size 432x288 with 2 Axes>"
            ]
          },
          "metadata": {
            "needs_background": "light"
          }
        },
        {
          "output_type": "stream",
          "name": "stdout",
          "text": [
            "\n",
            "************ Results for Gaussian Naive Bayes classifier ************\n",
            "\n",
            "{'var_smoothing': 0.012328467394420659}\n",
            "0.7033333333333334\n",
            "The best hyper parameters are : {'var_smoothing': 0.012328467394420659}\n",
            "The average accuracy ontained from validation data sets is : 0.7\n",
            "\n",
            "The test accuracy is 0.69\n",
            "              precision    recall  f1-score   support\n",
            "\n",
            "           0       0.35      0.86      0.50         7\n",
            "           1       0.95      0.66      0.78        32\n",
            "\n",
            "    accuracy                           0.69        39\n",
            "   macro avg       0.65      0.76      0.64        39\n",
            "weighted avg       0.85      0.69      0.73        39\n",
            "\n"
          ]
        },
        {
          "output_type": "display_data",
          "data": {
            "image/png": "[encoded data removed]",
            "text/plain": [
              "<Figure size 432x288 with 2 Axes>"
            ]
          },
          "metadata": {
            "needs_background": "light"
          }
        },
        {
          "output_type": "stream",
          "name": "stdout",
          "text": [
            "\n",
            "************ Results for Random Forest classifier ************\n",
            "\n",
            "{'max_depth': 7, 'max_features': 6}\n",
            "0.9354166666666666\n",
            "The best hyper parameters are : {'max_depth': 7, 'max_features': 6}\n",
            "The average accuracy ontained from validation data sets is : 0.94\n",
            "\n",
            "The test accuracy is 0.87\n",
            "              precision    recall  f1-score   support\n",
            "\n",
            "           0       0.78      0.70      0.74        10\n",
            "           1       0.90      0.93      0.92        29\n",
            "\n",
            "    accuracy                           0.87        39\n",
            "   macro avg       0.84      0.82      0.83        39\n",
            "weighted avg       0.87      0.87      0.87        39\n",
            "\n"
          ]
        },
        {
          "output_type": "display_data",
          "data": {
            "image/png": "[encoded data removed]",
            "text/plain": [
              "<Figure size 432x288 with 2 Axes>"
            ]
          },
          "metadata": {
            "needs_background": "light"
          }
        },
        {
          "output_type": "stream",
          "name": "stdout",
          "text": [
            "\n"
          ]
        }
      ]
    }
  ]
}